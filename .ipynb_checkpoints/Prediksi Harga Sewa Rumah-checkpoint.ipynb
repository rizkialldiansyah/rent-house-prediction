{
 "cells": [
  {
   "cell_type": "markdown",
   "id": "41d2481e",
   "metadata": {},
   "source": [
    "# Pendahuluan\n",
    "## Latar Belakang\n",
    "house_rent ini berisi informasi tentang harga sewa rumah, apartemen, dan flat dalam berbagai kota. Penyewa seringkali mempertimbangkan berbagai faktor sebelum memutuskan untuk menyewa properti, seperti jumlah kamar tidur, ukuran, lokasi, tingkat furnitur, preferensi penyewa, dan lain-lain. Oleh karena itu, memiliki model prediksi harga sewa berdasarkan faktor-faktor ini dapat membantu penyewa dan pemilik properti untuk mengambil keputusan yang lebih baik.\n",
    "\n",
    "## Tujuan\n",
    "Tujuan dari model prediksi ini adalah untuk mengembangkan suatu algoritma yang dapat memprediksi harga sewa properti berdasarkan berbagai fitur yang terdapat dalam house_rent ini. Dengan memiliki model ini, pemilik properti dapat menentukan harga sewa yang wajar berdasarkan karakteristik properti mereka, dan penyewa dapat memperoleh perkiraan harga sewa yang realistis sebelum melakukan penawaran atau memutuskan untuk menyewa properti.\n",
    "\n",
    "## Penjelasan house_rent\n",
    "- BHK (Number of Bedrooms, Hall, Kitchen): Variabel ini menunjukkan jumlah kamar tidur, ruang tamu, dan dapur dalam properti. Ini adalah faktor penting dalam menentukan ukuran dan kenyamanan properti.\n",
    "\n",
    "- Rent: Variabel ini merupakan harga sewa properti dalam mata uang yang digunakan dalam house_rent. Ini adalah variabel target yang akan diprediksi oleh model. (Target)\n",
    "\n",
    "- Size: Variabel ini menunjukkan ukuran properti dalam satuan kaki persegi. Ukuran properti bisa menjadi faktor penting dalam menentukan harga sewa.\n",
    "\n",
    "- Floor: Variabel ini menunjukkan lantai tempat properti berada serta jumlah total lantai dalam bangunan. Informasi ini memberikan gambaran tentang posisi properti dalam bangunan.\n",
    "\n",
    "- Area Type: Variabel ini menunjukkan jenis pengukuran yang digunakan untuk menghitung ukuran properti, apakah berdasarkan luas keseluruhan (super area), luas karpet (carpet area), atau luas bangunan (build area).\n",
    "\n",
    "- Area Locality: Variabel ini menyediakan informasi tentang lokasi properti, yaitu lingkungan di mana properti berada. Faktor ini dapat mempengaruhi harga sewa berdasarkan keamanan, fasilitas, aksesibilitas, dan lain-lain.\n",
    "\n",
    "- City: Variabel ini menunjukkan kota di mana properti berlokasi. Setiap kota mungkin memiliki pasar sewa yang berbeda dan variasi harga sewa yang signifikan.\n",
    "\n",
    "- Furnishing Status: Variabel ini mengindikasikan status perabotan dalam properti, apakah sudah berperabotan lengkap (furnished), sebagian berperabotan (semi-furnished), atau tidak berperabotan (unfurnished).\n",
    "\n",
    "- Tenant Preferred: Variabel ini menggambarkan tipe penyewa yang diinginkan oleh pemilik atau agen properti. Preferensi ini bisa mencakup keluarga, mahasiswa, profesional, dan lain-lain.\n",
    "\n",
    "- Bathroom: Variabel ini menunjukkan jumlah kamar mandi dalam properti. Jumlah kamar mandi dapat mempengaruhi kenyamanan dan nilai properti.\n",
    "\n",
    "- Point of Contact: Variabel ini memberikan informasi tentang orang yang dapat dihubungi untuk informasi lebih lanjut tentang properti."
   ]
  },
  {
   "cell_type": "markdown",
   "id": "29638f0b",
   "metadata": {},
   "source": [
    "# Data Preparation"
   ]
  },
  {
   "cell_type": "code",
   "execution_count": 59,
   "id": "eb62fd5f",
   "metadata": {},
   "outputs": [],
   "source": [
    "import pandas as pd"
   ]
  },
  {
   "cell_type": "code",
   "execution_count": 60,
   "id": "3499e757",
   "metadata": {},
   "outputs": [
    {
     "data": {
      "text/html": [
       "<div>\n",
       "<style scoped>\n",
       "    .dataframe tbody tr th:only-of-type {\n",
       "        vertical-align: middle;\n",
       "    }\n",
       "\n",
       "    .dataframe tbody tr th {\n",
       "        vertical-align: top;\n",
       "    }\n",
       "\n",
       "    .dataframe thead th {\n",
       "        text-align: right;\n",
       "    }\n",
       "</style>\n",
       "<table border=\"1\" class=\"dataframe\">\n",
       "  <thead>\n",
       "    <tr style=\"text-align: right;\">\n",
       "      <th></th>\n",
       "      <th>Posted On</th>\n",
       "      <th>BHK</th>\n",
       "      <th>Rent</th>\n",
       "      <th>Size</th>\n",
       "      <th>Floor</th>\n",
       "      <th>Area Type</th>\n",
       "      <th>Area Locality</th>\n",
       "      <th>City</th>\n",
       "      <th>Furnishing Status</th>\n",
       "      <th>Tenant Preferred</th>\n",
       "      <th>Bathroom</th>\n",
       "      <th>Point of Contact</th>\n",
       "    </tr>\n",
       "  </thead>\n",
       "  <tbody>\n",
       "    <tr>\n",
       "      <th>0</th>\n",
       "      <td>2022-05-18</td>\n",
       "      <td>2</td>\n",
       "      <td>10000</td>\n",
       "      <td>1100</td>\n",
       "      <td>Ground out of 2</td>\n",
       "      <td>Super Area</td>\n",
       "      <td>Bandel</td>\n",
       "      <td>Kolkata</td>\n",
       "      <td>Unfurnished</td>\n",
       "      <td>Bachelors/Family</td>\n",
       "      <td>2</td>\n",
       "      <td>Contact Owner</td>\n",
       "    </tr>\n",
       "    <tr>\n",
       "      <th>1</th>\n",
       "      <td>2022-05-13</td>\n",
       "      <td>2</td>\n",
       "      <td>20000</td>\n",
       "      <td>800</td>\n",
       "      <td>1 out of 3</td>\n",
       "      <td>Super Area</td>\n",
       "      <td>Phool Bagan, Kankurgachi</td>\n",
       "      <td>Kolkata</td>\n",
       "      <td>Semi-Furnished</td>\n",
       "      <td>Bachelors/Family</td>\n",
       "      <td>1</td>\n",
       "      <td>Contact Owner</td>\n",
       "    </tr>\n",
       "    <tr>\n",
       "      <th>2</th>\n",
       "      <td>2022-05-16</td>\n",
       "      <td>2</td>\n",
       "      <td>17000</td>\n",
       "      <td>1000</td>\n",
       "      <td>1 out of 3</td>\n",
       "      <td>Super Area</td>\n",
       "      <td>Salt Lake City Sector 2</td>\n",
       "      <td>Kolkata</td>\n",
       "      <td>Semi-Furnished</td>\n",
       "      <td>Bachelors/Family</td>\n",
       "      <td>1</td>\n",
       "      <td>Contact Owner</td>\n",
       "    </tr>\n",
       "    <tr>\n",
       "      <th>3</th>\n",
       "      <td>2022-07-04</td>\n",
       "      <td>2</td>\n",
       "      <td>10000</td>\n",
       "      <td>800</td>\n",
       "      <td>1 out of 2</td>\n",
       "      <td>Super Area</td>\n",
       "      <td>Dumdum Park</td>\n",
       "      <td>Kolkata</td>\n",
       "      <td>Unfurnished</td>\n",
       "      <td>Bachelors/Family</td>\n",
       "      <td>1</td>\n",
       "      <td>Contact Owner</td>\n",
       "    </tr>\n",
       "    <tr>\n",
       "      <th>4</th>\n",
       "      <td>2022-05-09</td>\n",
       "      <td>2</td>\n",
       "      <td>7500</td>\n",
       "      <td>850</td>\n",
       "      <td>1 out of 2</td>\n",
       "      <td>Carpet Area</td>\n",
       "      <td>South Dum Dum</td>\n",
       "      <td>Kolkata</td>\n",
       "      <td>Unfurnished</td>\n",
       "      <td>Bachelors</td>\n",
       "      <td>1</td>\n",
       "      <td>Contact Owner</td>\n",
       "    </tr>\n",
       "    <tr>\n",
       "      <th>...</th>\n",
       "      <td>...</td>\n",
       "      <td>...</td>\n",
       "      <td>...</td>\n",
       "      <td>...</td>\n",
       "      <td>...</td>\n",
       "      <td>...</td>\n",
       "      <td>...</td>\n",
       "      <td>...</td>\n",
       "      <td>...</td>\n",
       "      <td>...</td>\n",
       "      <td>...</td>\n",
       "      <td>...</td>\n",
       "    </tr>\n",
       "    <tr>\n",
       "      <th>4741</th>\n",
       "      <td>2022-05-18</td>\n",
       "      <td>2</td>\n",
       "      <td>15000</td>\n",
       "      <td>1000</td>\n",
       "      <td>3 out of 5</td>\n",
       "      <td>Carpet Area</td>\n",
       "      <td>Bandam Kommu</td>\n",
       "      <td>Hyderabad</td>\n",
       "      <td>Semi-Furnished</td>\n",
       "      <td>Bachelors/Family</td>\n",
       "      <td>2</td>\n",
       "      <td>Contact Owner</td>\n",
       "    </tr>\n",
       "    <tr>\n",
       "      <th>4742</th>\n",
       "      <td>2022-05-15</td>\n",
       "      <td>3</td>\n",
       "      <td>29000</td>\n",
       "      <td>2000</td>\n",
       "      <td>1 out of 4</td>\n",
       "      <td>Super Area</td>\n",
       "      <td>Manikonda, Hyderabad</td>\n",
       "      <td>Hyderabad</td>\n",
       "      <td>Semi-Furnished</td>\n",
       "      <td>Bachelors/Family</td>\n",
       "      <td>3</td>\n",
       "      <td>Contact Owner</td>\n",
       "    </tr>\n",
       "    <tr>\n",
       "      <th>4743</th>\n",
       "      <td>2022-07-10</td>\n",
       "      <td>3</td>\n",
       "      <td>35000</td>\n",
       "      <td>1750</td>\n",
       "      <td>3 out of 5</td>\n",
       "      <td>Carpet Area</td>\n",
       "      <td>Himayath Nagar, NH 7</td>\n",
       "      <td>Hyderabad</td>\n",
       "      <td>Semi-Furnished</td>\n",
       "      <td>Bachelors/Family</td>\n",
       "      <td>3</td>\n",
       "      <td>Contact Agent</td>\n",
       "    </tr>\n",
       "    <tr>\n",
       "      <th>4744</th>\n",
       "      <td>2022-07-06</td>\n",
       "      <td>3</td>\n",
       "      <td>45000</td>\n",
       "      <td>1500</td>\n",
       "      <td>23 out of 34</td>\n",
       "      <td>Carpet Area</td>\n",
       "      <td>Gachibowli</td>\n",
       "      <td>Hyderabad</td>\n",
       "      <td>Semi-Furnished</td>\n",
       "      <td>Family</td>\n",
       "      <td>2</td>\n",
       "      <td>Contact Agent</td>\n",
       "    </tr>\n",
       "    <tr>\n",
       "      <th>4745</th>\n",
       "      <td>2022-05-04</td>\n",
       "      <td>2</td>\n",
       "      <td>15000</td>\n",
       "      <td>1000</td>\n",
       "      <td>4 out of 5</td>\n",
       "      <td>Carpet Area</td>\n",
       "      <td>Suchitra Circle</td>\n",
       "      <td>Hyderabad</td>\n",
       "      <td>Unfurnished</td>\n",
       "      <td>Bachelors</td>\n",
       "      <td>2</td>\n",
       "      <td>Contact Owner</td>\n",
       "    </tr>\n",
       "  </tbody>\n",
       "</table>\n",
       "<p>4746 rows × 12 columns</p>\n",
       "</div>"
      ],
      "text/plain": [
       "       Posted On  BHK   Rent  Size            Floor    Area Type  \\\n",
       "0     2022-05-18    2  10000  1100  Ground out of 2   Super Area   \n",
       "1     2022-05-13    2  20000   800       1 out of 3   Super Area   \n",
       "2     2022-05-16    2  17000  1000       1 out of 3   Super Area   \n",
       "3     2022-07-04    2  10000   800       1 out of 2   Super Area   \n",
       "4     2022-05-09    2   7500   850       1 out of 2  Carpet Area   \n",
       "...          ...  ...    ...   ...              ...          ...   \n",
       "4741  2022-05-18    2  15000  1000       3 out of 5  Carpet Area   \n",
       "4742  2022-05-15    3  29000  2000       1 out of 4   Super Area   \n",
       "4743  2022-07-10    3  35000  1750       3 out of 5  Carpet Area   \n",
       "4744  2022-07-06    3  45000  1500     23 out of 34  Carpet Area   \n",
       "4745  2022-05-04    2  15000  1000       4 out of 5  Carpet Area   \n",
       "\n",
       "                 Area Locality       City Furnishing Status  Tenant Preferred  \\\n",
       "0                       Bandel    Kolkata       Unfurnished  Bachelors/Family   \n",
       "1     Phool Bagan, Kankurgachi    Kolkata    Semi-Furnished  Bachelors/Family   \n",
       "2      Salt Lake City Sector 2    Kolkata    Semi-Furnished  Bachelors/Family   \n",
       "3                  Dumdum Park    Kolkata       Unfurnished  Bachelors/Family   \n",
       "4                South Dum Dum    Kolkata       Unfurnished         Bachelors   \n",
       "...                        ...        ...               ...               ...   \n",
       "4741              Bandam Kommu  Hyderabad    Semi-Furnished  Bachelors/Family   \n",
       "4742      Manikonda, Hyderabad  Hyderabad    Semi-Furnished  Bachelors/Family   \n",
       "4743      Himayath Nagar, NH 7  Hyderabad    Semi-Furnished  Bachelors/Family   \n",
       "4744                Gachibowli  Hyderabad    Semi-Furnished            Family   \n",
       "4745           Suchitra Circle  Hyderabad       Unfurnished         Bachelors   \n",
       "\n",
       "      Bathroom Point of Contact  \n",
       "0            2    Contact Owner  \n",
       "1            1    Contact Owner  \n",
       "2            1    Contact Owner  \n",
       "3            1    Contact Owner  \n",
       "4            1    Contact Owner  \n",
       "...        ...              ...  \n",
       "4741         2    Contact Owner  \n",
       "4742         3    Contact Owner  \n",
       "4743         3    Contact Agent  \n",
       "4744         2    Contact Agent  \n",
       "4745         2    Contact Owner  \n",
       "\n",
       "[4746 rows x 12 columns]"
      ]
     },
     "execution_count": 60,
     "metadata": {},
     "output_type": "execute_result"
    }
   ],
   "source": [
    "house_rent_raw = pd.read_csv(\"./data_input/House_Rent_Dataset.csv\")\n",
    "house_rent_raw"
   ]
  },
  {
   "cell_type": "code",
   "execution_count": 61,
   "id": "0c30c7fc",
   "metadata": {},
   "outputs": [
    {
     "name": "stdout",
     "output_type": "stream",
     "text": [
      "<class 'pandas.core.frame.DataFrame'>\n",
      "RangeIndex: 4746 entries, 0 to 4745\n",
      "Data columns (total 12 columns):\n",
      " #   Column             Non-Null Count  Dtype \n",
      "---  ------             --------------  ----- \n",
      " 0   Posted On          4746 non-null   object\n",
      " 1   BHK                4746 non-null   int64 \n",
      " 2   Rent               4746 non-null   int64 \n",
      " 3   Size               4746 non-null   int64 \n",
      " 4   Floor              4746 non-null   object\n",
      " 5   Area Type          4746 non-null   object\n",
      " 6   Area Locality      4746 non-null   object\n",
      " 7   City               4746 non-null   object\n",
      " 8   Furnishing Status  4746 non-null   object\n",
      " 9   Tenant Preferred   4746 non-null   object\n",
      " 10  Bathroom           4746 non-null   int64 \n",
      " 11  Point of Contact   4746 non-null   object\n",
      "dtypes: int64(4), object(8)\n",
      "memory usage: 445.1+ KB\n"
     ]
    }
   ],
   "source": [
    "house_rent_raw.info()"
   ]
  },
  {
   "cell_type": "markdown",
   "id": "2e18e102",
   "metadata": {},
   "source": [
    "<b>Insigth</b><br>\n",
    "Dari info dataset, didapatkan bahwa ada beberapa data yang tidak sesuai dengan tipe datanya seperti Posted.On yang bertipe data chr lalu diubah menjadi date. Selain itu harus dilakukan explorasi lanjutan dengan beberapa kolom seperti Floor, Area.Type, Area.Locality, City, Furnishing.Status, Tenant.Preferred, Point.of.Contact karena atribut tersebut terindikasi sebagai data yang bersifat kategorikal."
   ]
  },
  {
   "cell_type": "code",
   "execution_count": 62,
   "id": "ba8b0ec3",
   "metadata": {},
   "outputs": [],
   "source": [
    "# Merubah tipe data 'Posted On' menjadi datetime\n",
    "house_rent_raw['Posted On'] = pd.to_datetime(house_rent_raw['Posted On'])"
   ]
  },
  {
   "cell_type": "code",
   "execution_count": 63,
   "id": "89b02ff1",
   "metadata": {},
   "outputs": [
    {
     "name": "stdout",
     "output_type": "stream",
     "text": [
      "Floor                 480\n",
      "Area Type               3\n",
      "Area Locality        2235\n",
      "City                    6\n",
      "Furnishing Status       3\n",
      "Tenant Preferred        3\n",
      "Point of Contact        3\n",
      "dtype: int64\n"
     ]
    }
   ],
   "source": [
    "# Menghitung jumlah nilai unik dalam kolom-kolom terindikasi kategorikal\n",
    "selected_cols = [\"Floor\", \"Area Type\", \"Area Locality\", \"City\", \"Furnishing Status\", \"Tenant Preferred\", \"Point of Contact\"]\n",
    "\n",
    "result = house_rent_raw[selected_cols].nunique()\n",
    "print(result)"
   ]
  },
  {
   "cell_type": "markdown",
   "id": "cbbdc1ee",
   "metadata": {},
   "source": [
    "<b>Insigth</b><br>\n",
    "Dari hasil melihat jumlah data unique dari kolom yang diinidkasi kategori, bisa dilakukan perubahan factor terhadap kolom selain Area.Locality dan Floor. akan tetapi pada kolom Floor harus dilakukan analisis lanjutan agar mengetahui apakah data tersebut dapat di lakukan pemrosesan agar data tersebut dapat dilakukan analisis lanjutan untuk digunakan modeling atau tidak"
   ]
  },
  {
   "cell_type": "code",
   "execution_count": 64,
   "id": "2c4911be",
   "metadata": {},
   "outputs": [],
   "source": [
    "# Mengubah tipe data category kolom kecuali \"Floor\" dan \"Area Locality\"\n",
    "for col in selected_cols:\n",
    "    if col not in [\"Floor\", \"Area Locality\"]:\n",
    "        house_rent_raw[col] = house_rent_raw[col].astype('category')"
   ]
  },
  {
   "cell_type": "markdown",
   "id": "b69cd500",
   "metadata": {},
   "source": [
    "### Melakukan Eksplorasi Lebih Dalam Terhadap Data \"<i>Floor</i>\""
   ]
  },
  {
   "cell_type": "code",
   "execution_count": 65,
   "id": "11b07a51",
   "metadata": {},
   "outputs": [
    {
     "data": {
      "text/plain": [
       "1239       10 out of 22\n",
       "2970         3 out of 3\n",
       "1879    Ground out of 2\n",
       "2551    Ground out of 4\n",
       "3507    Ground out of 2\n",
       "2165         2 out of 3\n",
       "4742         1 out of 4\n",
       "1381        5 out of 20\n",
       "2751         1 out of 2\n",
       "1450         4 out of 7\n",
       "Name: Floor, dtype: object"
      ]
     },
     "execution_count": 65,
     "metadata": {},
     "output_type": "execute_result"
    }
   ],
   "source": [
    "house_rent_raw['Floor'].sample(10, replace=False)"
   ]
  },
  {
   "cell_type": "markdown",
   "id": "a05a93db",
   "metadata": {},
   "source": [
    "<b>Insigth</b><br>\n",
    "Kolom floor berisikan data keberadaan properti yang akan disewakan. terdapat 3 perbedaan pada data tersebut yaitu basement(berada dibawah tanah, ground(berada dilantai dasar), dan upper(berada diatas lantai 1 atau lebih). oleh karenanya data tersebut akan dirubah sesuai dengan kategorinya, contohnya 'Ground out of 4' -> Ground, '5 out of 14' -> upper."
   ]
  },
  {
   "cell_type": "code",
   "execution_count": 66,
   "id": "851bb93b",
   "metadata": {},
   "outputs": [],
   "source": [
    "# Fungsi untuk mengubah data berdasarkan kriteria\n",
    "def transform_floor(floor_str):\n",
    "    if \"Ground\" in floor_str:\n",
    "        return \"Ground\"\n",
    "    elif \"Basement\" in floor_str:\n",
    "        return \"Basement\"\n",
    "    else:\n",
    "        nums = [int(s) for s in floor_str.split() if s.isdigit()]\n",
    "        if len(nums) > 0 and nums[0] > 1:\n",
    "            return \"Upper\"\n",
    "        elif len(nums) > 0 and nums[0] == 1:\n",
    "            return \"Ground\"\n",
    "        else:\n",
    "            return floor_str"
   ]
  },
  {
   "cell_type": "code",
   "execution_count": 67,
   "id": "208ffd18",
   "metadata": {},
   "outputs": [
    {
     "data": {
      "text/html": [
       "<div>\n",
       "<style scoped>\n",
       "    .dataframe tbody tr th:only-of-type {\n",
       "        vertical-align: middle;\n",
       "    }\n",
       "\n",
       "    .dataframe tbody tr th {\n",
       "        vertical-align: top;\n",
       "    }\n",
       "\n",
       "    .dataframe thead th {\n",
       "        text-align: right;\n",
       "    }\n",
       "</style>\n",
       "<table border=\"1\" class=\"dataframe\">\n",
       "  <thead>\n",
       "    <tr style=\"text-align: right;\">\n",
       "      <th></th>\n",
       "      <th>Posted On</th>\n",
       "      <th>BHK</th>\n",
       "      <th>Rent</th>\n",
       "      <th>Size</th>\n",
       "      <th>Floor</th>\n",
       "      <th>Area Type</th>\n",
       "      <th>Area Locality</th>\n",
       "      <th>City</th>\n",
       "      <th>Furnishing Status</th>\n",
       "      <th>Tenant Preferred</th>\n",
       "      <th>Bathroom</th>\n",
       "      <th>Point of Contact</th>\n",
       "    </tr>\n",
       "  </thead>\n",
       "  <tbody>\n",
       "    <tr>\n",
       "      <th>0</th>\n",
       "      <td>2022-05-18</td>\n",
       "      <td>2</td>\n",
       "      <td>10000</td>\n",
       "      <td>1100</td>\n",
       "      <td>Ground</td>\n",
       "      <td>Super Area</td>\n",
       "      <td>Bandel</td>\n",
       "      <td>Kolkata</td>\n",
       "      <td>Unfurnished</td>\n",
       "      <td>Bachelors/Family</td>\n",
       "      <td>2</td>\n",
       "      <td>Contact Owner</td>\n",
       "    </tr>\n",
       "    <tr>\n",
       "      <th>1</th>\n",
       "      <td>2022-05-13</td>\n",
       "      <td>2</td>\n",
       "      <td>20000</td>\n",
       "      <td>800</td>\n",
       "      <td>Ground</td>\n",
       "      <td>Super Area</td>\n",
       "      <td>Phool Bagan, Kankurgachi</td>\n",
       "      <td>Kolkata</td>\n",
       "      <td>Semi-Furnished</td>\n",
       "      <td>Bachelors/Family</td>\n",
       "      <td>1</td>\n",
       "      <td>Contact Owner</td>\n",
       "    </tr>\n",
       "    <tr>\n",
       "      <th>2</th>\n",
       "      <td>2022-05-16</td>\n",
       "      <td>2</td>\n",
       "      <td>17000</td>\n",
       "      <td>1000</td>\n",
       "      <td>Ground</td>\n",
       "      <td>Super Area</td>\n",
       "      <td>Salt Lake City Sector 2</td>\n",
       "      <td>Kolkata</td>\n",
       "      <td>Semi-Furnished</td>\n",
       "      <td>Bachelors/Family</td>\n",
       "      <td>1</td>\n",
       "      <td>Contact Owner</td>\n",
       "    </tr>\n",
       "    <tr>\n",
       "      <th>3</th>\n",
       "      <td>2022-07-04</td>\n",
       "      <td>2</td>\n",
       "      <td>10000</td>\n",
       "      <td>800</td>\n",
       "      <td>Ground</td>\n",
       "      <td>Super Area</td>\n",
       "      <td>Dumdum Park</td>\n",
       "      <td>Kolkata</td>\n",
       "      <td>Unfurnished</td>\n",
       "      <td>Bachelors/Family</td>\n",
       "      <td>1</td>\n",
       "      <td>Contact Owner</td>\n",
       "    </tr>\n",
       "    <tr>\n",
       "      <th>4</th>\n",
       "      <td>2022-05-09</td>\n",
       "      <td>2</td>\n",
       "      <td>7500</td>\n",
       "      <td>850</td>\n",
       "      <td>Ground</td>\n",
       "      <td>Carpet Area</td>\n",
       "      <td>South Dum Dum</td>\n",
       "      <td>Kolkata</td>\n",
       "      <td>Unfurnished</td>\n",
       "      <td>Bachelors</td>\n",
       "      <td>1</td>\n",
       "      <td>Contact Owner</td>\n",
       "    </tr>\n",
       "    <tr>\n",
       "      <th>...</th>\n",
       "      <td>...</td>\n",
       "      <td>...</td>\n",
       "      <td>...</td>\n",
       "      <td>...</td>\n",
       "      <td>...</td>\n",
       "      <td>...</td>\n",
       "      <td>...</td>\n",
       "      <td>...</td>\n",
       "      <td>...</td>\n",
       "      <td>...</td>\n",
       "      <td>...</td>\n",
       "      <td>...</td>\n",
       "    </tr>\n",
       "    <tr>\n",
       "      <th>4741</th>\n",
       "      <td>2022-05-18</td>\n",
       "      <td>2</td>\n",
       "      <td>15000</td>\n",
       "      <td>1000</td>\n",
       "      <td>Upper</td>\n",
       "      <td>Carpet Area</td>\n",
       "      <td>Bandam Kommu</td>\n",
       "      <td>Hyderabad</td>\n",
       "      <td>Semi-Furnished</td>\n",
       "      <td>Bachelors/Family</td>\n",
       "      <td>2</td>\n",
       "      <td>Contact Owner</td>\n",
       "    </tr>\n",
       "    <tr>\n",
       "      <th>4742</th>\n",
       "      <td>2022-05-15</td>\n",
       "      <td>3</td>\n",
       "      <td>29000</td>\n",
       "      <td>2000</td>\n",
       "      <td>Ground</td>\n",
       "      <td>Super Area</td>\n",
       "      <td>Manikonda, Hyderabad</td>\n",
       "      <td>Hyderabad</td>\n",
       "      <td>Semi-Furnished</td>\n",
       "      <td>Bachelors/Family</td>\n",
       "      <td>3</td>\n",
       "      <td>Contact Owner</td>\n",
       "    </tr>\n",
       "    <tr>\n",
       "      <th>4743</th>\n",
       "      <td>2022-07-10</td>\n",
       "      <td>3</td>\n",
       "      <td>35000</td>\n",
       "      <td>1750</td>\n",
       "      <td>Upper</td>\n",
       "      <td>Carpet Area</td>\n",
       "      <td>Himayath Nagar, NH 7</td>\n",
       "      <td>Hyderabad</td>\n",
       "      <td>Semi-Furnished</td>\n",
       "      <td>Bachelors/Family</td>\n",
       "      <td>3</td>\n",
       "      <td>Contact Agent</td>\n",
       "    </tr>\n",
       "    <tr>\n",
       "      <th>4744</th>\n",
       "      <td>2022-07-06</td>\n",
       "      <td>3</td>\n",
       "      <td>45000</td>\n",
       "      <td>1500</td>\n",
       "      <td>Upper</td>\n",
       "      <td>Carpet Area</td>\n",
       "      <td>Gachibowli</td>\n",
       "      <td>Hyderabad</td>\n",
       "      <td>Semi-Furnished</td>\n",
       "      <td>Family</td>\n",
       "      <td>2</td>\n",
       "      <td>Contact Agent</td>\n",
       "    </tr>\n",
       "    <tr>\n",
       "      <th>4745</th>\n",
       "      <td>2022-05-04</td>\n",
       "      <td>2</td>\n",
       "      <td>15000</td>\n",
       "      <td>1000</td>\n",
       "      <td>Upper</td>\n",
       "      <td>Carpet Area</td>\n",
       "      <td>Suchitra Circle</td>\n",
       "      <td>Hyderabad</td>\n",
       "      <td>Unfurnished</td>\n",
       "      <td>Bachelors</td>\n",
       "      <td>2</td>\n",
       "      <td>Contact Owner</td>\n",
       "    </tr>\n",
       "  </tbody>\n",
       "</table>\n",
       "<p>4746 rows × 12 columns</p>\n",
       "</div>"
      ],
      "text/plain": [
       "      Posted On  BHK   Rent  Size   Floor    Area Type  \\\n",
       "0    2022-05-18    2  10000  1100  Ground   Super Area   \n",
       "1    2022-05-13    2  20000   800  Ground   Super Area   \n",
       "2    2022-05-16    2  17000  1000  Ground   Super Area   \n",
       "3    2022-07-04    2  10000   800  Ground   Super Area   \n",
       "4    2022-05-09    2   7500   850  Ground  Carpet Area   \n",
       "...         ...  ...    ...   ...     ...          ...   \n",
       "4741 2022-05-18    2  15000  1000   Upper  Carpet Area   \n",
       "4742 2022-05-15    3  29000  2000  Ground   Super Area   \n",
       "4743 2022-07-10    3  35000  1750   Upper  Carpet Area   \n",
       "4744 2022-07-06    3  45000  1500   Upper  Carpet Area   \n",
       "4745 2022-05-04    2  15000  1000   Upper  Carpet Area   \n",
       "\n",
       "                 Area Locality       City Furnishing Status  Tenant Preferred  \\\n",
       "0                       Bandel    Kolkata       Unfurnished  Bachelors/Family   \n",
       "1     Phool Bagan, Kankurgachi    Kolkata    Semi-Furnished  Bachelors/Family   \n",
       "2      Salt Lake City Sector 2    Kolkata    Semi-Furnished  Bachelors/Family   \n",
       "3                  Dumdum Park    Kolkata       Unfurnished  Bachelors/Family   \n",
       "4                South Dum Dum    Kolkata       Unfurnished         Bachelors   \n",
       "...                        ...        ...               ...               ...   \n",
       "4741              Bandam Kommu  Hyderabad    Semi-Furnished  Bachelors/Family   \n",
       "4742      Manikonda, Hyderabad  Hyderabad    Semi-Furnished  Bachelors/Family   \n",
       "4743      Himayath Nagar, NH 7  Hyderabad    Semi-Furnished  Bachelors/Family   \n",
       "4744                Gachibowli  Hyderabad    Semi-Furnished            Family   \n",
       "4745           Suchitra Circle  Hyderabad       Unfurnished         Bachelors   \n",
       "\n",
       "      Bathroom Point of Contact  \n",
       "0            2    Contact Owner  \n",
       "1            1    Contact Owner  \n",
       "2            1    Contact Owner  \n",
       "3            1    Contact Owner  \n",
       "4            1    Contact Owner  \n",
       "...        ...              ...  \n",
       "4741         2    Contact Owner  \n",
       "4742         3    Contact Owner  \n",
       "4743         3    Contact Agent  \n",
       "4744         2    Contact Agent  \n",
       "4745         2    Contact Owner  \n",
       "\n",
       "[4746 rows x 12 columns]"
      ]
     },
     "execution_count": 67,
     "metadata": {},
     "output_type": "execute_result"
    }
   ],
   "source": [
    "house_rent_raw['Floor'] = house_rent_raw['Floor'].apply(transform_floor)\n",
    "\n",
    "# Menampilkan DataFrame setelah perubahan\n",
    "house_rent_raw"
   ]
  },
  {
   "cell_type": "markdown",
   "id": "83ac3c9a",
   "metadata": {},
   "source": [
    "# Exploratory Data Analyst"
   ]
  },
  {
   "cell_type": "code",
   "execution_count": 68,
   "id": "77e93281",
   "metadata": {},
   "outputs": [],
   "source": [
    "import matplotlib.pyplot as plt\n",
    "import seaborn as sns"
   ]
  },
  {
   "cell_type": "code",
   "execution_count": 69,
   "id": "6a67c6b2",
   "metadata": {},
   "outputs": [],
   "source": [
    "# melakukan seleksi terhadap data-data yang akan digunakan\n",
    "house_rent = house_rent_raw.drop([\"Area Locality\"], axis=1)"
   ]
  },
  {
   "cell_type": "code",
   "execution_count": 70,
   "id": "075507de",
   "metadata": {},
   "outputs": [
    {
     "data": {
      "text/html": [
       "<div>\n",
       "<style scoped>\n",
       "    .dataframe tbody tr th:only-of-type {\n",
       "        vertical-align: middle;\n",
       "    }\n",
       "\n",
       "    .dataframe tbody tr th {\n",
       "        vertical-align: top;\n",
       "    }\n",
       "\n",
       "    .dataframe thead th {\n",
       "        text-align: right;\n",
       "    }\n",
       "</style>\n",
       "<table border=\"1\" class=\"dataframe\">\n",
       "  <thead>\n",
       "    <tr style=\"text-align: right;\">\n",
       "      <th></th>\n",
       "      <th>Posted On</th>\n",
       "      <th>BHK</th>\n",
       "      <th>Rent</th>\n",
       "      <th>Size</th>\n",
       "      <th>Floor</th>\n",
       "      <th>Area Type</th>\n",
       "      <th>City</th>\n",
       "      <th>Furnishing Status</th>\n",
       "      <th>Tenant Preferred</th>\n",
       "      <th>Bathroom</th>\n",
       "      <th>Point of Contact</th>\n",
       "    </tr>\n",
       "  </thead>\n",
       "  <tbody>\n",
       "    <tr>\n",
       "      <th>0</th>\n",
       "      <td>2022-05-18</td>\n",
       "      <td>2</td>\n",
       "      <td>10000</td>\n",
       "      <td>1100</td>\n",
       "      <td>Ground</td>\n",
       "      <td>Super Area</td>\n",
       "      <td>Kolkata</td>\n",
       "      <td>Unfurnished</td>\n",
       "      <td>Bachelors/Family</td>\n",
       "      <td>2</td>\n",
       "      <td>Contact Owner</td>\n",
       "    </tr>\n",
       "    <tr>\n",
       "      <th>1</th>\n",
       "      <td>2022-05-13</td>\n",
       "      <td>2</td>\n",
       "      <td>20000</td>\n",
       "      <td>800</td>\n",
       "      <td>Ground</td>\n",
       "      <td>Super Area</td>\n",
       "      <td>Kolkata</td>\n",
       "      <td>Semi-Furnished</td>\n",
       "      <td>Bachelors/Family</td>\n",
       "      <td>1</td>\n",
       "      <td>Contact Owner</td>\n",
       "    </tr>\n",
       "    <tr>\n",
       "      <th>2</th>\n",
       "      <td>2022-05-16</td>\n",
       "      <td>2</td>\n",
       "      <td>17000</td>\n",
       "      <td>1000</td>\n",
       "      <td>Ground</td>\n",
       "      <td>Super Area</td>\n",
       "      <td>Kolkata</td>\n",
       "      <td>Semi-Furnished</td>\n",
       "      <td>Bachelors/Family</td>\n",
       "      <td>1</td>\n",
       "      <td>Contact Owner</td>\n",
       "    </tr>\n",
       "    <tr>\n",
       "      <th>3</th>\n",
       "      <td>2022-07-04</td>\n",
       "      <td>2</td>\n",
       "      <td>10000</td>\n",
       "      <td>800</td>\n",
       "      <td>Ground</td>\n",
       "      <td>Super Area</td>\n",
       "      <td>Kolkata</td>\n",
       "      <td>Unfurnished</td>\n",
       "      <td>Bachelors/Family</td>\n",
       "      <td>1</td>\n",
       "      <td>Contact Owner</td>\n",
       "    </tr>\n",
       "    <tr>\n",
       "      <th>4</th>\n",
       "      <td>2022-05-09</td>\n",
       "      <td>2</td>\n",
       "      <td>7500</td>\n",
       "      <td>850</td>\n",
       "      <td>Ground</td>\n",
       "      <td>Carpet Area</td>\n",
       "      <td>Kolkata</td>\n",
       "      <td>Unfurnished</td>\n",
       "      <td>Bachelors</td>\n",
       "      <td>1</td>\n",
       "      <td>Contact Owner</td>\n",
       "    </tr>\n",
       "    <tr>\n",
       "      <th>...</th>\n",
       "      <td>...</td>\n",
       "      <td>...</td>\n",
       "      <td>...</td>\n",
       "      <td>...</td>\n",
       "      <td>...</td>\n",
       "      <td>...</td>\n",
       "      <td>...</td>\n",
       "      <td>...</td>\n",
       "      <td>...</td>\n",
       "      <td>...</td>\n",
       "      <td>...</td>\n",
       "    </tr>\n",
       "    <tr>\n",
       "      <th>4741</th>\n",
       "      <td>2022-05-18</td>\n",
       "      <td>2</td>\n",
       "      <td>15000</td>\n",
       "      <td>1000</td>\n",
       "      <td>Upper</td>\n",
       "      <td>Carpet Area</td>\n",
       "      <td>Hyderabad</td>\n",
       "      <td>Semi-Furnished</td>\n",
       "      <td>Bachelors/Family</td>\n",
       "      <td>2</td>\n",
       "      <td>Contact Owner</td>\n",
       "    </tr>\n",
       "    <tr>\n",
       "      <th>4742</th>\n",
       "      <td>2022-05-15</td>\n",
       "      <td>3</td>\n",
       "      <td>29000</td>\n",
       "      <td>2000</td>\n",
       "      <td>Ground</td>\n",
       "      <td>Super Area</td>\n",
       "      <td>Hyderabad</td>\n",
       "      <td>Semi-Furnished</td>\n",
       "      <td>Bachelors/Family</td>\n",
       "      <td>3</td>\n",
       "      <td>Contact Owner</td>\n",
       "    </tr>\n",
       "    <tr>\n",
       "      <th>4743</th>\n",
       "      <td>2022-07-10</td>\n",
       "      <td>3</td>\n",
       "      <td>35000</td>\n",
       "      <td>1750</td>\n",
       "      <td>Upper</td>\n",
       "      <td>Carpet Area</td>\n",
       "      <td>Hyderabad</td>\n",
       "      <td>Semi-Furnished</td>\n",
       "      <td>Bachelors/Family</td>\n",
       "      <td>3</td>\n",
       "      <td>Contact Agent</td>\n",
       "    </tr>\n",
       "    <tr>\n",
       "      <th>4744</th>\n",
       "      <td>2022-07-06</td>\n",
       "      <td>3</td>\n",
       "      <td>45000</td>\n",
       "      <td>1500</td>\n",
       "      <td>Upper</td>\n",
       "      <td>Carpet Area</td>\n",
       "      <td>Hyderabad</td>\n",
       "      <td>Semi-Furnished</td>\n",
       "      <td>Family</td>\n",
       "      <td>2</td>\n",
       "      <td>Contact Agent</td>\n",
       "    </tr>\n",
       "    <tr>\n",
       "      <th>4745</th>\n",
       "      <td>2022-05-04</td>\n",
       "      <td>2</td>\n",
       "      <td>15000</td>\n",
       "      <td>1000</td>\n",
       "      <td>Upper</td>\n",
       "      <td>Carpet Area</td>\n",
       "      <td>Hyderabad</td>\n",
       "      <td>Unfurnished</td>\n",
       "      <td>Bachelors</td>\n",
       "      <td>2</td>\n",
       "      <td>Contact Owner</td>\n",
       "    </tr>\n",
       "  </tbody>\n",
       "</table>\n",
       "<p>4746 rows × 11 columns</p>\n",
       "</div>"
      ],
      "text/plain": [
       "      Posted On  BHK   Rent  Size   Floor    Area Type       City  \\\n",
       "0    2022-05-18    2  10000  1100  Ground   Super Area    Kolkata   \n",
       "1    2022-05-13    2  20000   800  Ground   Super Area    Kolkata   \n",
       "2    2022-05-16    2  17000  1000  Ground   Super Area    Kolkata   \n",
       "3    2022-07-04    2  10000   800  Ground   Super Area    Kolkata   \n",
       "4    2022-05-09    2   7500   850  Ground  Carpet Area    Kolkata   \n",
       "...         ...  ...    ...   ...     ...          ...        ...   \n",
       "4741 2022-05-18    2  15000  1000   Upper  Carpet Area  Hyderabad   \n",
       "4742 2022-05-15    3  29000  2000  Ground   Super Area  Hyderabad   \n",
       "4743 2022-07-10    3  35000  1750   Upper  Carpet Area  Hyderabad   \n",
       "4744 2022-07-06    3  45000  1500   Upper  Carpet Area  Hyderabad   \n",
       "4745 2022-05-04    2  15000  1000   Upper  Carpet Area  Hyderabad   \n",
       "\n",
       "     Furnishing Status  Tenant Preferred  Bathroom Point of Contact  \n",
       "0          Unfurnished  Bachelors/Family         2    Contact Owner  \n",
       "1       Semi-Furnished  Bachelors/Family         1    Contact Owner  \n",
       "2       Semi-Furnished  Bachelors/Family         1    Contact Owner  \n",
       "3          Unfurnished  Bachelors/Family         1    Contact Owner  \n",
       "4          Unfurnished         Bachelors         1    Contact Owner  \n",
       "...                ...               ...       ...              ...  \n",
       "4741    Semi-Furnished  Bachelors/Family         2    Contact Owner  \n",
       "4742    Semi-Furnished  Bachelors/Family         3    Contact Owner  \n",
       "4743    Semi-Furnished  Bachelors/Family         3    Contact Agent  \n",
       "4744    Semi-Furnished            Family         2    Contact Agent  \n",
       "4745       Unfurnished         Bachelors         2    Contact Owner  \n",
       "\n",
       "[4746 rows x 11 columns]"
      ]
     },
     "execution_count": 70,
     "metadata": {},
     "output_type": "execute_result"
    }
   ],
   "source": [
    "house_rent"
   ]
  },
  {
   "cell_type": "code",
   "execution_count": 71,
   "id": "0906b016",
   "metadata": {},
   "outputs": [
    {
     "name": "stdout",
     "output_type": "stream",
     "text": [
      "Posted On            0\n",
      "BHK                  0\n",
      "Rent                 0\n",
      "Size                 0\n",
      "Floor                0\n",
      "Area Type            0\n",
      "City                 0\n",
      "Furnishing Status    0\n",
      "Tenant Preferred     0\n",
      "Bathroom             0\n",
      "Point of Contact     0\n",
      "dtype: int64\n"
     ]
    }
   ],
   "source": [
    "# Menghitung jumlah missing values pada setiap kolom\n",
    "print(house_rent.isnull().sum())"
   ]
  },
  {
   "cell_type": "markdown",
   "id": "645e9db2",
   "metadata": {},
   "source": [
    "## Analisis Kolom Tanggal"
   ]
  },
  {
   "cell_type": "code",
   "execution_count": 72,
   "id": "fc8586da",
   "metadata": {},
   "outputs": [],
   "source": [
    "# Mengubah tanggal menjadi bulan\n",
    "house_rent['Posted Month'] = house_rent['Posted On'].dt.to_period('M')\n",
    "\n",
    "# Membuat agregat data dengan mean rent tiap bulan\n",
    "aggregated_data = house_rent.groupby('Posted Month')['Rent'].mean()"
   ]
  },
  {
   "cell_type": "code",
   "execution_count": 73,
   "id": "8500c0ad",
   "metadata": {},
   "outputs": [
    {
     "data": {
      "image/png": "[encoded data removed]",
      "text/plain": [
       "<Figure size 1000x600 with 1 Axes>"
      ]
     },
     "metadata": {},
     "output_type": "display_data"
    }
   ],
   "source": [
    "# Menampilkan visualisasi dengan bar plot\n",
    "plt.figure(figsize=(10, 6))\n",
    "aggregated_data.plot(kind='bar', color='blue')\n",
    "plt.xlabel('Posted Month')\n",
    "plt.ylabel('Mean Rent')\n",
    "plt.title('Mean Rent per Month')\n",
    "plt.xticks(rotation=45)\n",
    "plt.tight_layout()\n",
    "plt.show()"
   ]
  },
  {
   "cell_type": "code",
   "execution_count": 74,
   "id": "d164e424",
   "metadata": {},
   "outputs": [
    {
     "data": {
      "text/html": [
       "<div>\n",
       "<style scoped>\n",
       "    .dataframe tbody tr th:only-of-type {\n",
       "        vertical-align: middle;\n",
       "    }\n",
       "\n",
       "    .dataframe tbody tr th {\n",
       "        vertical-align: top;\n",
       "    }\n",
       "\n",
       "    .dataframe thead th {\n",
       "        text-align: right;\n",
       "    }\n",
       "</style>\n",
       "<table border=\"1\" class=\"dataframe\">\n",
       "  <thead>\n",
       "    <tr style=\"text-align: right;\">\n",
       "      <th></th>\n",
       "      <th>BHK</th>\n",
       "      <th>Rent</th>\n",
       "      <th>Size</th>\n",
       "      <th>Bathroom</th>\n",
       "    </tr>\n",
       "  </thead>\n",
       "  <tbody>\n",
       "    <tr>\n",
       "      <th>count</th>\n",
       "      <td>4746.000000</td>\n",
       "      <td>4.746000e+03</td>\n",
       "      <td>4746.000000</td>\n",
       "      <td>4746.000000</td>\n",
       "    </tr>\n",
       "    <tr>\n",
       "      <th>mean</th>\n",
       "      <td>2.083860</td>\n",
       "      <td>3.499345e+04</td>\n",
       "      <td>967.490729</td>\n",
       "      <td>1.965866</td>\n",
       "    </tr>\n",
       "    <tr>\n",
       "      <th>std</th>\n",
       "      <td>0.832256</td>\n",
       "      <td>7.810641e+04</td>\n",
       "      <td>634.202328</td>\n",
       "      <td>0.884532</td>\n",
       "    </tr>\n",
       "    <tr>\n",
       "      <th>min</th>\n",
       "      <td>1.000000</td>\n",
       "      <td>1.200000e+03</td>\n",
       "      <td>10.000000</td>\n",
       "      <td>1.000000</td>\n",
       "    </tr>\n",
       "    <tr>\n",
       "      <th>25%</th>\n",
       "      <td>2.000000</td>\n",
       "      <td>1.000000e+04</td>\n",
       "      <td>550.000000</td>\n",
       "      <td>1.000000</td>\n",
       "    </tr>\n",
       "    <tr>\n",
       "      <th>50%</th>\n",
       "      <td>2.000000</td>\n",
       "      <td>1.600000e+04</td>\n",
       "      <td>850.000000</td>\n",
       "      <td>2.000000</td>\n",
       "    </tr>\n",
       "    <tr>\n",
       "      <th>75%</th>\n",
       "      <td>3.000000</td>\n",
       "      <td>3.300000e+04</td>\n",
       "      <td>1200.000000</td>\n",
       "      <td>2.000000</td>\n",
       "    </tr>\n",
       "    <tr>\n",
       "      <th>max</th>\n",
       "      <td>6.000000</td>\n",
       "      <td>3.500000e+06</td>\n",
       "      <td>8000.000000</td>\n",
       "      <td>10.000000</td>\n",
       "    </tr>\n",
       "  </tbody>\n",
       "</table>\n",
       "</div>"
      ],
      "text/plain": [
       "               BHK          Rent         Size     Bathroom\n",
       "count  4746.000000  4.746000e+03  4746.000000  4746.000000\n",
       "mean      2.083860  3.499345e+04   967.490729     1.965866\n",
       "std       0.832256  7.810641e+04   634.202328     0.884532\n",
       "min       1.000000  1.200000e+03    10.000000     1.000000\n",
       "25%       2.000000  1.000000e+04   550.000000     1.000000\n",
       "50%       2.000000  1.600000e+04   850.000000     2.000000\n",
       "75%       3.000000  3.300000e+04  1200.000000     2.000000\n",
       "max       6.000000  3.500000e+06  8000.000000    10.000000"
      ]
     },
     "execution_count": 74,
     "metadata": {},
     "output_type": "execute_result"
    }
   ],
   "source": [
    "# Menghitung statistik agregat\n",
    "house_rent.describe()"
   ]
  },
  {
   "cell_type": "markdown",
   "id": "e866817f",
   "metadata": {},
   "source": [
    "## Analisis Kolom Numeric"
   ]
  },
  {
   "cell_type": "code",
   "execution_count": 75,
   "id": "d9a83cc3",
   "metadata": {},
   "outputs": [
    {
     "data": {
      "image/png": "[encoded data removed]",
      "text/plain": [
       "<Figure size 640x480 with 1 Axes>"
      ]
     },
     "metadata": {},
     "output_type": "display_data"
    }
   ],
   "source": [
    "# Menampilkan boxplot untuk kolom numerik\n",
    "sns.boxplot(x=house_rent['Rent'])\n",
    "plt.xlabel('Rent')\n",
    "plt.show()"
   ]
  },
  {
   "cell_type": "code",
   "execution_count": 76,
   "id": "1703da9b",
   "metadata": {},
   "outputs": [
    {
     "data": {
      "image/png": "[encoded data removed]",
      "text/plain": [
       "<Figure size 640x480 with 1 Axes>"
      ]
     },
     "metadata": {},
     "output_type": "display_data"
    }
   ],
   "source": [
    "# Menampilkan boxplot untuk kolom numerik\n",
    "sns.boxplot(x=house_rent['Size'])\n",
    "plt.xlabel('Size')\n",
    "plt.show()"
   ]
  },
  {
   "cell_type": "markdown",
   "id": "4d45e45c",
   "metadata": {},
   "source": [
    "### Melakukan Pehapusan Outliers"
   ]
  },
  {
   "cell_type": "markdown",
   "id": "79b6743f",
   "metadata": {},
   "source": [
    "#### Menghapus Data Outliers \"<i>Rent</i>\""
   ]
  },
  {
   "cell_type": "code",
   "execution_count": 77,
   "id": "35cf8e30",
   "metadata": {},
   "outputs": [
    {
     "name": "stdout",
     "output_type": "stream",
     "text": [
      "Jumlah Semua Data: 4746\n",
      "Jumlah outlier yang akan dihapus: 520\n"
     ]
    }
   ],
   "source": [
    "# Menghitung nilai IQR untuk kolom \"Rent\"\n",
    "Q1 = house_rent['Rent'].quantile(0.25)\n",
    "Q3 = house_rent['Rent'].quantile(0.75)\n",
    "IQR = Q3 - Q1\n",
    "\n",
    "# Menentukan batas atas dan batas bawah untuk outlier\n",
    "lower_bound = Q1 - 1.5 * IQR\n",
    "upper_bound = Q3 + 1.5 * IQR\n",
    "\n",
    "# Menghitung jumlah outlier berdasarkan batas atas dan batas bawah\n",
    "outliers_rent = house_rent[(house_rent['Rent'] < lower_bound) | (house_rent['Rent'] > upper_bound)]\n",
    "\n",
    "# Menampilkan jumlah outlier\n",
    "print(\"Jumlah Semua Data:\", len(house_rent))\n",
    "print(\"Jumlah outlier yang akan dihapus:\", len(outliers_rent))"
   ]
  },
  {
   "cell_type": "markdown",
   "id": "3ff0008d",
   "metadata": {},
   "source": [
    "#### Menghapus Data Outliers \"<i>Size</i>\""
   ]
  },
  {
   "cell_type": "code",
   "execution_count": 78,
   "id": "20f2ee9a",
   "metadata": {},
   "outputs": [
    {
     "name": "stdout",
     "output_type": "stream",
     "text": [
      "Jumlah Semua Data: 4746\n",
      "Jumlah outlier yang akan dihapus: 203\n"
     ]
    }
   ],
   "source": [
    "# Menghitung nilai IQR untuk kolom \"Rent\"\n",
    "Q1 = house_rent['Size'].quantile(0.25)\n",
    "Q3 = house_rent['Size'].quantile(0.75)\n",
    "IQR = Q3 - Q1\n",
    "\n",
    "# Menentukan batas atas dan batas bawah untuk outlier\n",
    "lower_bound = Q1 - 1.5 * IQR\n",
    "upper_bound = Q3 + 1.5 * IQR\n",
    "\n",
    "# Menghitung jumlah outlier berdasarkan batas atas dan batas bawah\n",
    "outliers_size = house_rent[(house_rent['Size'] < lower_bound) | (house_rent['Size'] > upper_bound)]\n",
    "\n",
    "# Menampilkan jumlah outlier\n",
    "print(\"Jumlah Semua Data:\", len(house_rent))\n",
    "print(\"Jumlah outlier yang akan dihapus:\", len(outliers_size))"
   ]
  },
  {
   "cell_type": "code",
   "execution_count": 79,
   "id": "e9132b56",
   "metadata": {},
   "outputs": [
    {
     "data": {
      "text/html": [
       "<div>\n",
       "<style scoped>\n",
       "    .dataframe tbody tr th:only-of-type {\n",
       "        vertical-align: middle;\n",
       "    }\n",
       "\n",
       "    .dataframe tbody tr th {\n",
       "        vertical-align: top;\n",
       "    }\n",
       "\n",
       "    .dataframe thead th {\n",
       "        text-align: right;\n",
       "    }\n",
       "</style>\n",
       "<table border=\"1\" class=\"dataframe\">\n",
       "  <thead>\n",
       "    <tr style=\"text-align: right;\">\n",
       "      <th></th>\n",
       "      <th>Posted On</th>\n",
       "      <th>BHK</th>\n",
       "      <th>Rent</th>\n",
       "      <th>Size</th>\n",
       "      <th>Floor</th>\n",
       "      <th>Area Type</th>\n",
       "      <th>City</th>\n",
       "      <th>Furnishing Status</th>\n",
       "      <th>Tenant Preferred</th>\n",
       "      <th>Bathroom</th>\n",
       "      <th>Point of Contact</th>\n",
       "      <th>Posted Month</th>\n",
       "    </tr>\n",
       "  </thead>\n",
       "  <tbody>\n",
       "    <tr>\n",
       "      <th>0</th>\n",
       "      <td>2022-05-18</td>\n",
       "      <td>2</td>\n",
       "      <td>10000</td>\n",
       "      <td>1100</td>\n",
       "      <td>Ground</td>\n",
       "      <td>Super Area</td>\n",
       "      <td>Kolkata</td>\n",
       "      <td>Unfurnished</td>\n",
       "      <td>Bachelors/Family</td>\n",
       "      <td>2</td>\n",
       "      <td>Contact Owner</td>\n",
       "      <td>2022-05</td>\n",
       "    </tr>\n",
       "    <tr>\n",
       "      <th>1</th>\n",
       "      <td>2022-05-13</td>\n",
       "      <td>2</td>\n",
       "      <td>20000</td>\n",
       "      <td>800</td>\n",
       "      <td>Ground</td>\n",
       "      <td>Super Area</td>\n",
       "      <td>Kolkata</td>\n",
       "      <td>Semi-Furnished</td>\n",
       "      <td>Bachelors/Family</td>\n",
       "      <td>1</td>\n",
       "      <td>Contact Owner</td>\n",
       "      <td>2022-05</td>\n",
       "    </tr>\n",
       "    <tr>\n",
       "      <th>2</th>\n",
       "      <td>2022-05-16</td>\n",
       "      <td>2</td>\n",
       "      <td>17000</td>\n",
       "      <td>1000</td>\n",
       "      <td>Ground</td>\n",
       "      <td>Super Area</td>\n",
       "      <td>Kolkata</td>\n",
       "      <td>Semi-Furnished</td>\n",
       "      <td>Bachelors/Family</td>\n",
       "      <td>1</td>\n",
       "      <td>Contact Owner</td>\n",
       "      <td>2022-05</td>\n",
       "    </tr>\n",
       "    <tr>\n",
       "      <th>3</th>\n",
       "      <td>2022-07-04</td>\n",
       "      <td>2</td>\n",
       "      <td>10000</td>\n",
       "      <td>800</td>\n",
       "      <td>Ground</td>\n",
       "      <td>Super Area</td>\n",
       "      <td>Kolkata</td>\n",
       "      <td>Unfurnished</td>\n",
       "      <td>Bachelors/Family</td>\n",
       "      <td>1</td>\n",
       "      <td>Contact Owner</td>\n",
       "      <td>2022-07</td>\n",
       "    </tr>\n",
       "    <tr>\n",
       "      <th>4</th>\n",
       "      <td>2022-05-09</td>\n",
       "      <td>2</td>\n",
       "      <td>7500</td>\n",
       "      <td>850</td>\n",
       "      <td>Ground</td>\n",
       "      <td>Carpet Area</td>\n",
       "      <td>Kolkata</td>\n",
       "      <td>Unfurnished</td>\n",
       "      <td>Bachelors</td>\n",
       "      <td>1</td>\n",
       "      <td>Contact Owner</td>\n",
       "      <td>2022-05</td>\n",
       "    </tr>\n",
       "    <tr>\n",
       "      <th>...</th>\n",
       "      <td>...</td>\n",
       "      <td>...</td>\n",
       "      <td>...</td>\n",
       "      <td>...</td>\n",
       "      <td>...</td>\n",
       "      <td>...</td>\n",
       "      <td>...</td>\n",
       "      <td>...</td>\n",
       "      <td>...</td>\n",
       "      <td>...</td>\n",
       "      <td>...</td>\n",
       "      <td>...</td>\n",
       "    </tr>\n",
       "    <tr>\n",
       "      <th>4741</th>\n",
       "      <td>2022-05-18</td>\n",
       "      <td>2</td>\n",
       "      <td>15000</td>\n",
       "      <td>1000</td>\n",
       "      <td>Upper</td>\n",
       "      <td>Carpet Area</td>\n",
       "      <td>Hyderabad</td>\n",
       "      <td>Semi-Furnished</td>\n",
       "      <td>Bachelors/Family</td>\n",
       "      <td>2</td>\n",
       "      <td>Contact Owner</td>\n",
       "      <td>2022-05</td>\n",
       "    </tr>\n",
       "    <tr>\n",
       "      <th>4742</th>\n",
       "      <td>2022-05-15</td>\n",
       "      <td>3</td>\n",
       "      <td>29000</td>\n",
       "      <td>2000</td>\n",
       "      <td>Ground</td>\n",
       "      <td>Super Area</td>\n",
       "      <td>Hyderabad</td>\n",
       "      <td>Semi-Furnished</td>\n",
       "      <td>Bachelors/Family</td>\n",
       "      <td>3</td>\n",
       "      <td>Contact Owner</td>\n",
       "      <td>2022-05</td>\n",
       "    </tr>\n",
       "    <tr>\n",
       "      <th>4743</th>\n",
       "      <td>2022-07-10</td>\n",
       "      <td>3</td>\n",
       "      <td>35000</td>\n",
       "      <td>1750</td>\n",
       "      <td>Upper</td>\n",
       "      <td>Carpet Area</td>\n",
       "      <td>Hyderabad</td>\n",
       "      <td>Semi-Furnished</td>\n",
       "      <td>Bachelors/Family</td>\n",
       "      <td>3</td>\n",
       "      <td>Contact Agent</td>\n",
       "      <td>2022-07</td>\n",
       "    </tr>\n",
       "    <tr>\n",
       "      <th>4744</th>\n",
       "      <td>2022-07-06</td>\n",
       "      <td>3</td>\n",
       "      <td>45000</td>\n",
       "      <td>1500</td>\n",
       "      <td>Upper</td>\n",
       "      <td>Carpet Area</td>\n",
       "      <td>Hyderabad</td>\n",
       "      <td>Semi-Furnished</td>\n",
       "      <td>Family</td>\n",
       "      <td>2</td>\n",
       "      <td>Contact Agent</td>\n",
       "      <td>2022-07</td>\n",
       "    </tr>\n",
       "    <tr>\n",
       "      <th>4745</th>\n",
       "      <td>2022-05-04</td>\n",
       "      <td>2</td>\n",
       "      <td>15000</td>\n",
       "      <td>1000</td>\n",
       "      <td>Upper</td>\n",
       "      <td>Carpet Area</td>\n",
       "      <td>Hyderabad</td>\n",
       "      <td>Unfurnished</td>\n",
       "      <td>Bachelors</td>\n",
       "      <td>2</td>\n",
       "      <td>Contact Owner</td>\n",
       "      <td>2022-05</td>\n",
       "    </tr>\n",
       "  </tbody>\n",
       "</table>\n",
       "<p>4157 rows × 12 columns</p>\n",
       "</div>"
      ],
      "text/plain": [
       "      Posted On  BHK   Rent  Size   Floor    Area Type       City  \\\n",
       "0    2022-05-18    2  10000  1100  Ground   Super Area    Kolkata   \n",
       "1    2022-05-13    2  20000   800  Ground   Super Area    Kolkata   \n",
       "2    2022-05-16    2  17000  1000  Ground   Super Area    Kolkata   \n",
       "3    2022-07-04    2  10000   800  Ground   Super Area    Kolkata   \n",
       "4    2022-05-09    2   7500   850  Ground  Carpet Area    Kolkata   \n",
       "...         ...  ...    ...   ...     ...          ...        ...   \n",
       "4741 2022-05-18    2  15000  1000   Upper  Carpet Area  Hyderabad   \n",
       "4742 2022-05-15    3  29000  2000  Ground   Super Area  Hyderabad   \n",
       "4743 2022-07-10    3  35000  1750   Upper  Carpet Area  Hyderabad   \n",
       "4744 2022-07-06    3  45000  1500   Upper  Carpet Area  Hyderabad   \n",
       "4745 2022-05-04    2  15000  1000   Upper  Carpet Area  Hyderabad   \n",
       "\n",
       "     Furnishing Status  Tenant Preferred  Bathroom Point of Contact  \\\n",
       "0          Unfurnished  Bachelors/Family         2    Contact Owner   \n",
       "1       Semi-Furnished  Bachelors/Family         1    Contact Owner   \n",
       "2       Semi-Furnished  Bachelors/Family         1    Contact Owner   \n",
       "3          Unfurnished  Bachelors/Family         1    Contact Owner   \n",
       "4          Unfurnished         Bachelors         1    Contact Owner   \n",
       "...                ...               ...       ...              ...   \n",
       "4741    Semi-Furnished  Bachelors/Family         2    Contact Owner   \n",
       "4742    Semi-Furnished  Bachelors/Family         3    Contact Owner   \n",
       "4743    Semi-Furnished  Bachelors/Family         3    Contact Agent   \n",
       "4744    Semi-Furnished            Family         2    Contact Agent   \n",
       "4745       Unfurnished         Bachelors         2    Contact Owner   \n",
       "\n",
       "     Posted Month  \n",
       "0         2022-05  \n",
       "1         2022-05  \n",
       "2         2022-05  \n",
       "3         2022-07  \n",
       "4         2022-05  \n",
       "...           ...  \n",
       "4741      2022-05  \n",
       "4742      2022-05  \n",
       "4743      2022-07  \n",
       "4744      2022-07  \n",
       "4745      2022-05  \n",
       "\n",
       "[4157 rows x 12 columns]"
      ]
     },
     "execution_count": 79,
     "metadata": {},
     "output_type": "execute_result"
    }
   ],
   "source": [
    "# Menghapus data outlier dari DataFrame house_rent berdasarkan outlier_rent dan outlier_size\n",
    "house_rent_cleaned = house_rent.drop(outliers_rent.index, errors='ignore')\n",
    "house_rent_cleaned = house_rent_cleaned.drop(outliers_size.index, errors='ignore')\n",
    "\n",
    "# Menampilkan DataFrame house_rent setelah penghapusan outlier\n",
    "house_rent_cleaned"
   ]
  },
  {
   "cell_type": "code",
   "execution_count": 80,
   "id": "dff8fdab",
   "metadata": {},
   "outputs": [
    {
     "data": {
      "image/png": "[encoded data removed]",
      "text/plain": [
       "<Figure size 640x480 with 1 Axes>"
      ]
     },
     "metadata": {},
     "output_type": "display_data"
    }
   ],
   "source": [
    "# Menampilkan scatter plot antara Rent dan Size\n",
    "plt.scatter(house_rent_cleaned['Size'], house_rent_cleaned['Rent'])\n",
    "plt.xlabel('Size')\n",
    "plt.ylabel('Rent')\n",
    "plt.show()"
   ]
  },
  {
   "cell_type": "markdown",
   "id": "f426d266",
   "metadata": {},
   "source": [
    "## Analisis Kolom Kategori"
   ]
  },
  {
   "cell_type": "code",
   "execution_count": 81,
   "id": "6aab5f3b",
   "metadata": {},
   "outputs": [
    {
     "data": {
      "image/png": "[encoded data removed]",
      "text/plain": [
       "<Figure size 640x480 with 1 Axes>"
      ]
     },
     "metadata": {},
     "output_type": "display_data"
    }
   ],
   "source": [
    "# Menampilkan count plot untuk variabel kategorikal\n",
    "sns.countplot(x='Furnishing Status', data=house_rent_cleaned)\n",
    "plt.xlabel('Furnishing Status')\n",
    "plt.ylabel('Count')\n",
    "plt.show()"
   ]
  },
  {
   "cell_type": "code",
   "execution_count": 82,
   "id": "0ae650aa",
   "metadata": {},
   "outputs": [
    {
     "data": {
      "image/png": "[encoded data removed]",
      "text/plain": [
       "<Figure size 640x480 with 1 Axes>"
      ]
     },
     "metadata": {},
     "output_type": "display_data"
    }
   ],
   "source": [
    "# Menampilkan count plot untuk variabel kategorikal\n",
    "sns.countplot(x='City', data=house_rent_cleaned)\n",
    "plt.xlabel('Furnishing Status')\n",
    "plt.ylabel('Count')\n",
    "plt.show()"
   ]
  },
  {
   "cell_type": "code",
   "execution_count": 83,
   "id": "86b1b492",
   "metadata": {},
   "outputs": [
    {
     "data": {
      "image/png": "[encoded data removed]",
      "text/plain": [
       "<Figure size 640x480 with 1 Axes>"
      ]
     },
     "metadata": {},
     "output_type": "display_data"
    }
   ],
   "source": [
    "# Menampilkan count plot untuk variabel kategorikal\n",
    "sns.countplot(x='Tenant Preferred', data=house_rent_cleaned)\n",
    "plt.xlabel('Furnishing Status')\n",
    "plt.ylabel('Count')\n",
    "plt.show()"
   ]
  },
  {
   "cell_type": "code",
   "execution_count": 84,
   "id": "1a9977e0",
   "metadata": {},
   "outputs": [
    {
     "data": {
      "image/png": "[encoded data removed]",
      "text/plain": [
       "<Figure size 640x480 with 1 Axes>"
      ]
     },
     "metadata": {},
     "output_type": "display_data"
    }
   ],
   "source": [
    "# Menampilkan count plot untuk variabel kategorikal\n",
    "sns.countplot(x='Point of Contact', data=house_rent_cleaned)\n",
    "plt.xlabel('Furnishing Status')\n",
    "plt.ylabel('Count')\n",
    "plt.show()"
   ]
  },
  {
   "cell_type": "markdown",
   "id": "1c6f9773",
   "metadata": {},
   "source": [
    "<b>Insigth</b><br>\n",
    "Hasil visualisasi diatas menunjukan adanya data dengan kategori Contact Builder yang memiliki frekuensi sangat sedikit. oleh karenanya akan dilakukan pengecekan frekuensi terhadap kategori tersebut dan jika frekuensi sangat sedikit akan dibuang."
   ]
  },
  {
   "cell_type": "code",
   "execution_count": 85,
   "id": "7b2e2049",
   "metadata": {},
   "outputs": [
    {
     "data": {
      "text/html": [
       "<div>\n",
       "<style scoped>\n",
       "    .dataframe tbody tr th:only-of-type {\n",
       "        vertical-align: middle;\n",
       "    }\n",
       "\n",
       "    .dataframe tbody tr th {\n",
       "        vertical-align: top;\n",
       "    }\n",
       "\n",
       "    .dataframe thead th {\n",
       "        text-align: right;\n",
       "    }\n",
       "</style>\n",
       "<table border=\"1\" class=\"dataframe\">\n",
       "  <thead>\n",
       "    <tr style=\"text-align: right;\">\n",
       "      <th></th>\n",
       "      <th>Posted On</th>\n",
       "      <th>BHK</th>\n",
       "      <th>Rent</th>\n",
       "      <th>Size</th>\n",
       "      <th>Floor</th>\n",
       "      <th>Area Type</th>\n",
       "      <th>City</th>\n",
       "      <th>Furnishing Status</th>\n",
       "      <th>Tenant Preferred</th>\n",
       "      <th>Bathroom</th>\n",
       "      <th>Point of Contact</th>\n",
       "      <th>Posted Month</th>\n",
       "    </tr>\n",
       "  </thead>\n",
       "  <tbody>\n",
       "    <tr>\n",
       "      <th>4061</th>\n",
       "      <td>2022-06-18</td>\n",
       "      <td>1</td>\n",
       "      <td>5500</td>\n",
       "      <td>400</td>\n",
       "      <td>Ground</td>\n",
       "      <td>Super Area</td>\n",
       "      <td>Hyderabad</td>\n",
       "      <td>Unfurnished</td>\n",
       "      <td>Bachelors/Family</td>\n",
       "      <td>1</td>\n",
       "      <td>Contact Builder</td>\n",
       "      <td>2022-06</td>\n",
       "    </tr>\n",
       "  </tbody>\n",
       "</table>\n",
       "</div>"
      ],
      "text/plain": [
       "      Posted On  BHK  Rent  Size   Floor   Area Type       City  \\\n",
       "4061 2022-06-18    1  5500   400  Ground  Super Area  Hyderabad   \n",
       "\n",
       "     Furnishing Status  Tenant Preferred  Bathroom Point of Contact  \\\n",
       "4061       Unfurnished  Bachelors/Family         1  Contact Builder   \n",
       "\n",
       "     Posted Month  \n",
       "4061      2022-06  "
      ]
     },
     "execution_count": 85,
     "metadata": {},
     "output_type": "execute_result"
    }
   ],
   "source": [
    "house_rent_cleaned[house_rent_cleaned['Point of Contact'] == \"Contact Builder\"]"
   ]
  },
  {
   "cell_type": "markdown",
   "id": "ec15b9c9",
   "metadata": {},
   "source": [
    "Karena datanya hanya ada satu. oleh karenanya akan dibuang untuk menghindari overfiting"
   ]
  },
  {
   "cell_type": "code",
   "execution_count": 86,
   "id": "4b6f5b6f",
   "metadata": {},
   "outputs": [],
   "source": [
    "house_rent_cleaned = house_rent_cleaned.drop(house_rent_cleaned[house_rent_cleaned['Point of Contact'] == \"Contact Builder\"].index)"
   ]
  },
  {
   "cell_type": "code",
   "execution_count": 87,
   "id": "50839a87",
   "metadata": {},
   "outputs": [
    {
     "data": {
      "image/png": "[encoded data removed]",
      "text/plain": [
       "<Figure size 640x480 with 1 Axes>"
      ]
     },
     "metadata": {},
     "output_type": "display_data"
    }
   ],
   "source": [
    "# Menampilkan count plot untuk variabel kategorikal\n",
    "sns.countplot(x='Floor', data=house_rent_cleaned)\n",
    "plt.xlabel('Furnishing Status')\n",
    "plt.ylabel('Count')\n",
    "plt.show()"
   ]
  },
  {
   "cell_type": "code",
   "execution_count": 88,
   "id": "71ac1303",
   "metadata": {},
   "outputs": [
    {
     "data": {
      "image/png": "[encoded data removed]",
      "text/plain": [
       "<Figure size 1000x800 with 2 Axes>"
      ]
     },
     "metadata": {},
     "output_type": "display_data"
    }
   ],
   "source": [
    "# Memilih hanya kolom numerik\n",
    "numeric_cols = ['Rent', 'BHK', 'Size', 'Bathroom']\n",
    "numeric_data = house_rent_cleaned[numeric_cols]\n",
    "\n",
    "# Menghitung matriks korelasi\n",
    "correlation_matrix = numeric_data.corr()\n",
    "\n",
    "# Membuat heatmap korelasi\n",
    "plt.figure(figsize=(10, 8))\n",
    "sns.heatmap(correlation_matrix, annot=True, cmap='coolwarm')\n",
    "plt.title('Correlation Heatmap')\n",
    "plt.show()\n"
   ]
  },
  {
   "cell_type": "markdown",
   "id": "4544c8d3",
   "metadata": {},
   "source": [
    "<b>Insigth</b><br>\n",
    "Hasil korelasi yang ditampilkan dapat disimpulkan bahwa korelasi antara variable target(rent) dengan variable lainnya memiliki korelasi yang kecil yaitu dibawah thresshold pada umumnya 0.6, akan tetapi data tersebut akan coba digunakan pada training model"
   ]
  },
  {
   "cell_type": "markdown",
   "id": "888098de",
   "metadata": {},
   "source": [
    "# Data Preprocessing\n",
    "Karena banyak data kategori dan saat modeling dibutuhkan data yang numerik oleh karenanya semua data kategori akan dirubah menjadi numeric"
   ]
  },
  {
   "cell_type": "code",
   "execution_count": 89,
   "id": "f5574be4",
   "metadata": {},
   "outputs": [],
   "source": [
    "data_prep = house_rent_cleaned.copy()"
   ]
  },
  {
   "cell_type": "code",
   "execution_count": 90,
   "id": "1fac5b28",
   "metadata": {},
   "outputs": [],
   "source": [
    "from sklearn.preprocessing import LabelEncoder\n",
    "\n",
    "# Membuat objek LabelEncoder\n",
    "label_encoder = LabelEncoder()\n",
    "\n",
    "# Mengubah data kategorikal menjadi numerik dengan Label Encoding\n",
    "data_prep['Posted Month'] = label_encoder.fit_transform(data_prep['Posted Month'])\n",
    "data_prep['Furnishing Status'] = label_encoder.fit_transform(data_prep['Furnishing Status'])\n",
    "data_prep['Tenant Preferred'] = label_encoder.fit_transform(data_prep['Tenant Preferred'])\n",
    "data_prep['Point of Contact'] = label_encoder.fit_transform(data_prep['Point of Contact'])\n",
    "data_prep['Area Type'] = label_encoder.fit_transform(data_prep['Area Type'])\n",
    "data_prep['City'] = label_encoder.fit_transform(data_prep['City'])\n",
    "data_prep['Floor'] = label_encoder.fit_transform(data_prep['Floor'])\n",
    "\n",
    "data_prep = data_prep.drop(columns= \"Posted On\")"
   ]
  },
  {
   "cell_type": "code",
   "execution_count": 91,
   "id": "3d684983",
   "metadata": {},
   "outputs": [
    {
     "data": {
      "text/html": [
       "<div>\n",
       "<style scoped>\n",
       "    .dataframe tbody tr th:only-of-type {\n",
       "        vertical-align: middle;\n",
       "    }\n",
       "\n",
       "    .dataframe tbody tr th {\n",
       "        vertical-align: top;\n",
       "    }\n",
       "\n",
       "    .dataframe thead th {\n",
       "        text-align: right;\n",
       "    }\n",
       "</style>\n",
       "<table border=\"1\" class=\"dataframe\">\n",
       "  <thead>\n",
       "    <tr style=\"text-align: right;\">\n",
       "      <th></th>\n",
       "      <th>BHK</th>\n",
       "      <th>Rent</th>\n",
       "      <th>Size</th>\n",
       "      <th>Floor</th>\n",
       "      <th>Area Type</th>\n",
       "      <th>City</th>\n",
       "      <th>Furnishing Status</th>\n",
       "      <th>Tenant Preferred</th>\n",
       "      <th>Bathroom</th>\n",
       "      <th>Point of Contact</th>\n",
       "      <th>Posted Month</th>\n",
       "    </tr>\n",
       "  </thead>\n",
       "  <tbody>\n",
       "    <tr>\n",
       "      <th>0</th>\n",
       "      <td>2</td>\n",
       "      <td>10000</td>\n",
       "      <td>1100</td>\n",
       "      <td>1</td>\n",
       "      <td>2</td>\n",
       "      <td>4</td>\n",
       "      <td>2</td>\n",
       "      <td>1</td>\n",
       "      <td>2</td>\n",
       "      <td>1</td>\n",
       "      <td>1</td>\n",
       "    </tr>\n",
       "    <tr>\n",
       "      <th>1</th>\n",
       "      <td>2</td>\n",
       "      <td>20000</td>\n",
       "      <td>800</td>\n",
       "      <td>1</td>\n",
       "      <td>2</td>\n",
       "      <td>4</td>\n",
       "      <td>1</td>\n",
       "      <td>1</td>\n",
       "      <td>1</td>\n",
       "      <td>1</td>\n",
       "      <td>1</td>\n",
       "    </tr>\n",
       "    <tr>\n",
       "      <th>2</th>\n",
       "      <td>2</td>\n",
       "      <td>17000</td>\n",
       "      <td>1000</td>\n",
       "      <td>1</td>\n",
       "      <td>2</td>\n",
       "      <td>4</td>\n",
       "      <td>1</td>\n",
       "      <td>1</td>\n",
       "      <td>1</td>\n",
       "      <td>1</td>\n",
       "      <td>1</td>\n",
       "    </tr>\n",
       "    <tr>\n",
       "      <th>3</th>\n",
       "      <td>2</td>\n",
       "      <td>10000</td>\n",
       "      <td>800</td>\n",
       "      <td>1</td>\n",
       "      <td>2</td>\n",
       "      <td>4</td>\n",
       "      <td>2</td>\n",
       "      <td>1</td>\n",
       "      <td>1</td>\n",
       "      <td>1</td>\n",
       "      <td>3</td>\n",
       "    </tr>\n",
       "    <tr>\n",
       "      <th>4</th>\n",
       "      <td>2</td>\n",
       "      <td>7500</td>\n",
       "      <td>850</td>\n",
       "      <td>1</td>\n",
       "      <td>1</td>\n",
       "      <td>4</td>\n",
       "      <td>2</td>\n",
       "      <td>0</td>\n",
       "      <td>1</td>\n",
       "      <td>1</td>\n",
       "      <td>1</td>\n",
       "    </tr>\n",
       "  </tbody>\n",
       "</table>\n",
       "</div>"
      ],
      "text/plain": [
       "   BHK   Rent  Size  Floor  Area Type  City  Furnishing Status  \\\n",
       "0    2  10000  1100      1          2     4                  2   \n",
       "1    2  20000   800      1          2     4                  1   \n",
       "2    2  17000  1000      1          2     4                  1   \n",
       "3    2  10000   800      1          2     4                  2   \n",
       "4    2   7500   850      1          1     4                  2   \n",
       "\n",
       "   Tenant Preferred  Bathroom  Point of Contact  Posted Month  \n",
       "0                 1         2                 1             1  \n",
       "1                 1         1                 1             1  \n",
       "2                 1         1                 1             1  \n",
       "3                 1         1                 1             3  \n",
       "4                 0         1                 1             1  "
      ]
     },
     "execution_count": 91,
     "metadata": {},
     "output_type": "execute_result"
    }
   ],
   "source": [
    "data_prep.head()"
   ]
  },
  {
   "cell_type": "markdown",
   "id": "ccb3d6fe",
   "metadata": {},
   "source": [
    "# Modeling"
   ]
  },
  {
   "cell_type": "code",
   "execution_count": 92,
   "id": "fa44778a",
   "metadata": {},
   "outputs": [],
   "source": [
    "from sklearn.metrics import mean_absolute_error, mean_squared_error, r2_score\n",
    "from sklearn.model_selection import train_test_split\n",
    "from sklearn.linear_model import LinearRegression\n",
    "from sklearn.ensemble import RandomForestRegressor"
   ]
  },
  {
   "cell_type": "code",
   "execution_count": 93,
   "id": "250c988a",
   "metadata": {},
   "outputs": [],
   "source": [
    "# Memisahkan fitur dan target\n",
    "X = data_prep.drop('Rent', axis=1)\n",
    "y = data_prep['Rent']\n",
    "\n",
    "# Memisahkan data menjadi data latih dan data uji\n",
    "X_train, X_test, y_train, y_test = train_test_split(X, y, test_size=0.2, random_state=42)"
   ]
  },
  {
   "cell_type": "markdown",
   "id": "fa0e25e7",
   "metadata": {},
   "source": [
    "## Linear Regression"
   ]
  },
  {
   "cell_type": "code",
   "execution_count": 94,
   "id": "c43ff8ce",
   "metadata": {},
   "outputs": [
    {
     "name": "stdout",
     "output_type": "stream",
     "text": [
      "Mean Absolute Error: 7095.177042024844\n",
      "Mean Squared Error: 87551416.41134106\n",
      "R-squared: 0.5377555901706563\n"
     ]
    }
   ],
   "source": [
    "# Inisialisasi model regresi\n",
    "model_lr = LinearRegression()\n",
    "\n",
    "# Melatih model\n",
    "model_lr.fit(X_train, y_train)\n",
    "\n",
    "# Melakukan prediksi pada data uji\n",
    "y_pred = model_lr.predict(X_test)\n",
    "\n",
    "# Evaluasi kinerja model\n",
    "mae = mean_absolute_error(y_test, y_pred)\n",
    "mse = mean_squared_error(y_test, y_pred)\n",
    "r2 = r2_score(y_test, y_pred)\n",
    "\n",
    "print(\"Mean Absolute Error:\", mae)\n",
    "print(\"Mean Squared Error:\", mse)\n",
    "print(\"R-squared:\", r2)"
   ]
  },
  {
   "cell_type": "code",
   "execution_count": 95,
   "id": "e1fdce33",
   "metadata": {},
   "outputs": [
    {
     "data": {
      "image/png": "[encoded data removed]",
      "text/plain": [
       "<Figure size 640x480 with 1 Axes>"
      ]
     },
     "metadata": {},
     "output_type": "display_data"
    }
   ],
   "source": [
    "# Analisis residual\n",
    "residuals = y_test - y_pred\n",
    "\n",
    "# Visualisasi scatter plot antara nilai sebenarnya dan nilai prediksi\n",
    "plt.scatter(y_test, y_pred)\n",
    "plt.xlabel('Actual Rent')\n",
    "plt.ylabel('Predicted Rent')\n",
    "plt.title('Actual vs. Predicted Rent')\n",
    "plt.show()"
   ]
  },
  {
   "cell_type": "markdown",
   "id": "d2b88c63",
   "metadata": {},
   "source": [
    "### Kesimpulan\n",
    "* Evaluasi ini mengindikasikan bahwa model regresi yang digunakan masih memiliki ruang untuk ditingkatkan karena nilai R-squarednya yang sekitar 0.54. Ini berarti model baru berhasil menjelaskan sekitar 54% variasi dalam data, sehingga sekitar 46% variasi masih belum dapat dijelaskan oleh model.|\n",
    "* MAE dan MSE juga menunjukkan bahwa ada tingkat kesalahan yang signifikan dalam prediksi nilai rent. Hal ini dapat menjadi pertimbangan penting, terutama jika prediksi yang akurat penting dalam aplikasi atau bisnis tertentu."
   ]
  },
  {
   "cell_type": "markdown",
   "id": "23fade3f",
   "metadata": {},
   "source": [
    "## Random Forest"
   ]
  },
  {
   "cell_type": "code",
   "execution_count": 96,
   "id": "648304a1",
   "metadata": {},
   "outputs": [
    {
     "name": "stdout",
     "output_type": "stream",
     "text": [
      "Mean Absolute Error: 5171.449667933362\n",
      "Mean Squared Error: 56298277.44172578\n",
      "R-squared: 0.7027625012005151\n"
     ]
    }
   ],
   "source": [
    "# Inisialisasi model Random Forest Regressor\n",
    "model_rf = RandomForestRegressor(random_state=42)\n",
    "\n",
    "# Melatih model\n",
    "model_rf.fit(X_train, y_train)\n",
    "\n",
    "# Melakukan prediksi pada data uji\n",
    "y_pred = model_rf.predict(X_test)\n",
    "\n",
    "# Evaluasi kinerja model\n",
    "mae = mean_absolute_error(y_test, y_pred)\n",
    "mse = mean_squared_error(y_test, y_pred)\n",
    "r2 = r2_score(y_test, y_pred)\n",
    "\n",
    "print(\"Mean Absolute Error:\", mae)\n",
    "print(\"Mean Squared Error:\", mse)\n",
    "print(\"R-squared:\", r2)"
   ]
  },
  {
   "cell_type": "code",
   "execution_count": 97,
   "id": "c9d7898f",
   "metadata": {},
   "outputs": [
    {
     "data": {
      "image/png": "[encoded data removed]",
      "text/plain": [
       "<Figure size 640x480 with 1 Axes>"
      ]
     },
     "metadata": {},
     "output_type": "display_data"
    }
   ],
   "source": [
    "# Analisis residual\n",
    "residuals = y_test - y_pred\n",
    "\n",
    "# Visualisasi scatter plot antara nilai sebenarnya dan nilai prediksi\n",
    "plt.scatter(y_test, y_pred)\n",
    "plt.xlabel('Actual Rent')\n",
    "plt.ylabel('Predicted Rent')\n",
    "plt.title('Actual vs. Predicted Rent')\n",
    "plt.show()"
   ]
  },
  {
   "cell_type": "markdown",
   "id": "86427d83",
   "metadata": {},
   "source": [
    "### Kesimpulan\n",
    "* Evaluasi ini menunjukkan bahwa model Random Forest Regressor memberikan hasil yang lebih baik dibandingkan dengan model sebelumnya dalam hal prediksi rent. MAE yang lebih rendah dan MSE yang lebih rendah menunjukkan peningkatan dalam akurasi prediksi dan pengurangan kesalahan prediksi secara keseluruhan.\n",
    "* R-squared yang lebih tinggi menunjukkan bahwa model ini mampu menjelaskan sekitar 70% variasi dalam data, yang lebih baik dibandingkan dengan model sebelumnya. Ini menunjukkan bahwa model Random Forest Regressor memiliki kemampuan yang lebih baik dalam menjelaskan pola atau hubungan yang ada di dalam data."
   ]
  },
  {
   "cell_type": "code",
   "execution_count": null,
   "id": "4761736c",
   "metadata": {},
   "outputs": [],
   "source": []
  }
 ],
 "metadata": {
  "kernelspec": {
   "display_name": "Python 3 (ipykernel)",
   "language": "python",
   "name": "python3"
  },
  "language_info": {
   "codemirror_mode": {
    "name": "ipython",
    "version": 3
   },
   "file_extension": ".py",
   "mimetype": "text/x-python",
   "name": "python",
   "nbconvert_exporter": "python",
   "pygments_lexer": "ipython3",
   "version": "3.10.11"
  }
 },
 "nbformat": 4,
 "nbformat_minor": 5
}
